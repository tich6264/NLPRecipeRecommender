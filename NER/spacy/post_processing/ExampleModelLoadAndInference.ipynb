{
 "cells": [
  {
   "cell_type": "markdown",
   "id": "b6ddf255",
   "metadata": {},
   "source": [
    "# Example Load and Inference"
   ]
  },
  {
   "cell_type": "markdown",
   "id": "c0730fcd",
   "metadata": {},
   "source": [
    "## Import libraries/dependencies "
   ]
  },
  {
   "cell_type": "code",
   "execution_count": 56,
   "id": "26112999",
   "metadata": {},
   "outputs": [],
   "source": [
    "import spacy\n",
    "from spacy import displacy"
   ]
  },
  {
   "cell_type": "markdown",
   "id": "a1b8a23c",
   "metadata": {},
   "source": [
    "## Create test examples "
   ]
  },
  {
   "cell_type": "code",
   "execution_count": 57,
   "id": "56df9f29",
   "metadata": {},
   "outputs": [],
   "source": [
    "txt = \"5 cups of sugar\"\n",
    "txt2 = \"1 tsp of salt\"\n",
    "txt3 = \"2 tbspn of salad dressing\""
   ]
  },
  {
   "cell_type": "markdown",
   "id": "da9682d6",
   "metadata": {},
   "source": [
    "## Load trained spacy model"
   ]
  },
  {
   "cell_type": "code",
   "execution_count": 58,
   "id": "c5642197",
   "metadata": {},
   "outputs": [],
   "source": [
    "nlp = spacy.load(\"NLPRecipeRecommender/NER/spacy/training/training_output_final/model-best\")"
   ]
  },
  {
   "cell_type": "markdown",
   "id": "9f701e0f",
   "metadata": {},
   "source": [
    "## Run inference and display results"
   ]
  },
  {
   "cell_type": "markdown",
   "id": "c35f255e",
   "metadata": {},
   "source": [
    "#### Example 1"
   ]
  },
  {
   "cell_type": "code",
   "execution_count": 59,
   "id": "70e7cc68",
   "metadata": {},
   "outputs": [],
   "source": [
    "doc = nlp(txt)"
   ]
  },
  {
   "cell_type": "code",
   "execution_count": 60,
   "id": "1ee0d50c",
   "metadata": {},
   "outputs": [
    {
     "data": {
      "text/html": [
       "<span class=\"tex2jax_ignore\"><div class=\"entities\" style=\"line-height: 2.5; direction: ltr\">5 cups of \n",
       "<mark class=\"entity\" style=\"background: #ddd; padding: 0.45em 0.6em; margin: 0 0.25em; line-height: 1; border-radius: 0.35em;\">\n",
       "    sugar\n",
       "    <span style=\"font-size: 0.8em; font-weight: bold; line-height: 1; border-radius: 0.35em; vertical-align: middle; margin-left: 0.5rem\">INGREDIENT</span>\n",
       "</mark>\n",
       "</div></span>"
      ],
      "text/plain": [
       "<IPython.core.display.HTML object>"
      ]
     },
     "metadata": {},
     "output_type": "display_data"
    }
   ],
   "source": [
    "displacy.render(doc, style='ent')"
   ]
  },
  {
   "cell_type": "markdown",
   "id": "690d1198",
   "metadata": {},
   "source": [
    "#### Example 2"
   ]
  },
  {
   "cell_type": "code",
   "execution_count": 61,
   "id": "9424bc53",
   "metadata": {},
   "outputs": [],
   "source": [
    "doc = nlp(txt2)"
   ]
  },
  {
   "cell_type": "code",
   "execution_count": 62,
   "id": "7b1a24a6",
   "metadata": {},
   "outputs": [
    {
     "data": {
      "text/html": [
       "<span class=\"tex2jax_ignore\"><div class=\"entities\" style=\"line-height: 2.5; direction: ltr\">1 tsp of \n",
       "<mark class=\"entity\" style=\"background: #ddd; padding: 0.45em 0.6em; margin: 0 0.25em; line-height: 1; border-radius: 0.35em;\">\n",
       "    salt\n",
       "    <span style=\"font-size: 0.8em; font-weight: bold; line-height: 1; border-radius: 0.35em; vertical-align: middle; margin-left: 0.5rem\">INGREDIENT</span>\n",
       "</mark>\n",
       "</div></span>"
      ],
      "text/plain": [
       "<IPython.core.display.HTML object>"
      ]
     },
     "metadata": {},
     "output_type": "display_data"
    }
   ],
   "source": [
    "displacy.render(doc, style='ent')"
   ]
  },
  {
   "cell_type": "markdown",
   "id": "692f3a6c",
   "metadata": {},
   "source": [
    "#### Example 3"
   ]
  },
  {
   "cell_type": "code",
   "execution_count": 63,
   "id": "6ca4308e",
   "metadata": {},
   "outputs": [],
   "source": [
    "doc = nlp(txt3)"
   ]
  },
  {
   "cell_type": "code",
   "execution_count": 64,
   "id": "7429cd21",
   "metadata": {},
   "outputs": [
    {
     "data": {
      "text/html": [
       "<span class=\"tex2jax_ignore\"><div class=\"entities\" style=\"line-height: 2.5; direction: ltr\">2 tbspn of \n",
       "<mark class=\"entity\" style=\"background: #ddd; padding: 0.45em 0.6em; margin: 0 0.25em; line-height: 1; border-radius: 0.35em;\">\n",
       "    salad dressing\n",
       "    <span style=\"font-size: 0.8em; font-weight: bold; line-height: 1; border-radius: 0.35em; vertical-align: middle; margin-left: 0.5rem\">INGREDIENT</span>\n",
       "</mark>\n",
       "</div></span>"
      ],
      "text/plain": [
       "<IPython.core.display.HTML object>"
      ]
     },
     "metadata": {},
     "output_type": "display_data"
    }
   ],
   "source": [
    "displacy.render(doc, style='ent')"
   ]
  }
 ],
 "metadata": {
  "kernelspec": {
   "display_name": "Python 3 (ipykernel)",
   "language": "python",
   "name": "python3"
  },
  "language_info": {
   "codemirror_mode": {
    "name": "ipython",
    "version": 3
   },
   "file_extension": ".py",
   "mimetype": "text/x-python",
   "name": "python",
   "nbconvert_exporter": "python",
   "pygments_lexer": "ipython3",
   "version": "3.9.16"
  }
 },
 "nbformat": 4,
 "nbformat_minor": 5
}
