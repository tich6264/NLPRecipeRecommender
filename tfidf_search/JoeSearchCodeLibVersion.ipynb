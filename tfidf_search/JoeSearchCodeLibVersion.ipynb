{
  "nbformat": 4,
  "nbformat_minor": 0,
  "metadata": {
    "colab": {
      "provenance": [],
      "machine_shape": "hm"
    },
    "kernelspec": {
      "name": "python3",
      "display_name": "Python 3"
    },
    "language_info": {
      "name": "python"
    },
    "gpuClass": "standard"
  },
  "cells": [
    {
      "cell_type": "markdown",
      "source": [
        "# Imports"
      ],
      "metadata": {
        "id": "KpqAxc-2eU6E"
      }
    },
    {
      "cell_type": "code",
      "source": [
        "import sqlite3\n",
        "import csv\n",
        "import pandas as pd\n",
        "import string\n",
        "from sklearn.feature_extraction.text import TfidfVectorizer\n",
        "\n",
        "from google.colab import drive\n",
        "drive.mount('/content/drive')"
      ],
      "metadata": {
        "colab": {
          "base_uri": "https://localhost:8080/"
        },
        "id": "V3w6LEFTKZ2Q",
        "outputId": "e6b31a14-c869-4795-ba6c-d879d83217b7"
      },
      "execution_count": null,
      "outputs": [
        {
          "output_type": "stream",
          "name": "stdout",
          "text": [
            "Mounted at /content/drive\n"
          ]
        }
      ]
    },
    {
      "cell_type": "code",
      "source": [
        "%cd /content/drive/MyDrive/sjsu-aiml-project/Code"
      ],
      "metadata": {
        "colab": {
          "base_uri": "https://localhost:8080/"
        },
        "id": "J1NoPscTBbgN",
        "outputId": "6ebb78e5-56d9-4711-d79f-b5f6a70154d4"
      },
      "execution_count": null,
      "outputs": [
        {
          "output_type": "stream",
          "name": "stdout",
          "text": [
            "/content/drive/MyDrive/sjsu-aiml-project/Code\n"
          ]
        }
      ]
    },
    {
      "cell_type": "markdown",
      "source": [
        "# Search"
      ],
      "metadata": {
        "id": "83t88CyOpKTl"
      }
    },
    {
      "cell_type": "markdown",
      "source": [
        "### Read in recipe database"
      ],
      "metadata": {
        "id": "wapmEpuweA8e"
      }
    },
    {
      "cell_type": "code",
      "source": [
        "conn = sqlite3.connect('/content/drive/MyDrive/sjsu-aiml-project/Code/database/recipes.sqlite')\n",
        "df = pd.read_sql_query(\"SELECT * from recipes\", conn)\n",
        "\n",
        "# Verify that result of SQL query is stored in the dataframe\n",
        "print(df.head())\n",
        "\n",
        "conn.close()"
      ],
      "metadata": {
        "colab": {
          "base_uri": "https://localhost:8080/"
        },
        "id": "4CCQ_U9xpNod",
        "outputId": "fc6e98a2-0798-4578-aa46-32cc41152d6b"
      },
      "execution_count": null,
      "outputs": [
        {
          "output_type": "stream",
          "name": "stdout",
          "text": [
            "   index                  title  \\\n",
            "0      0    No-Bake Nut Cookies   \n",
            "1      1  Jewell Ball'S Chicken   \n",
            "2      2            Creamy Corn   \n",
            "3      3          Chicken Funny   \n",
            "4      4   Reeses Cups(Candy)     \n",
            "\n",
            "                                         ingredients  \\\n",
            "0  [\"1 c. firmly packed brown sugar\", \"1/2 c. eva...   \n",
            "1  [\"1 small jar chipped beef, cut up\", \"4 boned ...   \n",
            "2  [\"2 (16 oz.) pkg. frozen corn\", \"1 (8 oz.) pkg...   \n",
            "3  [\"1 large whole chicken\", \"2 (10 1/2 oz.) cans...   \n",
            "4  [\"1 c. peanut butter\", \"3/4 c. graham cracker ...   \n",
            "\n",
            "                                          directions  \n",
            "0  [\"In a heavy 2-quart saucepan, mix brown sugar...  \n",
            "1  [\"Place chipped beef on bottom of baking dish....  \n",
            "2  [\"In a slow cooker, combine all ingredients. C...  \n",
            "3  [\"Boil and debone chicken.\", \"Put bite size pi...  \n",
            "4  [\"Combine first four ingredients and press in ...  \n"
          ]
        }
      ]
    },
    {
      "cell_type": "code",
      "source": [
        "# place recipe titles into a list and begin\n",
        "recipeTitles = []\n",
        "cleanRecipeTitles = []\n",
        "\n",
        "for index, row in df.iterrows():\n",
        "  recipeTitles.append(row.title)\n",
        "#print(recipeTitles)"
      ],
      "metadata": {
        "id": "5qR9j4nSLPXz"
      },
      "execution_count": null,
      "outputs": []
    },
    {
      "cell_type": "code",
      "source": [
        "from sklearn.feature_extraction.text import TfidfVectorizer \n",
        "\n",
        "# instantiate vectorizer\n",
        "# any settings that you use for count vectorizer will go here \n",
        "tfidf_vectorizer = TfidfVectorizer()\n",
        "\n",
        "# converts docs to tfidf vectors \n",
        "tfidf_vectors = tfidf_vectorizer.fit_transform(recipeTitles)\n",
        "\n",
        "# convert matrix to a regular array \n",
        "tf_idf_array = tfidf_vectors.toarray()\n",
        "\n",
        "# obtain the original terms in the corpus\n",
        "words_set = tfidf_vectorizer.get_feature_names_out() \n",
        "\n",
        "# create a dataframe to better show the TF-IDF scores of each document (row)\n",
        "tfidf_df = pd.DataFrame(tf_idf_array, columns = words_set)\n",
        "#print(tfidf_df['bake'])"
      ],
      "metadata": {
        "id": "CQgAFoZB45aU"
      },
      "execution_count": null,
      "outputs": []
    },
    {
      "cell_type": "code",
      "source": [
        "input = 'burr'\n",
        "word_tokenizer = tfidf_vectorizer.build_tokenizer()\n",
        "input_tokens = word_tokenizer(input.lower())\n",
        "\n",
        "# Get sum of DataFrame rows (which is a doc/recipe)\n",
        "# for input tokens that are represented as columns\n",
        "sumRows = tfidf_df[input_tokens].sum(axis=1)\n",
        "\n",
        "# sort dataframe to get closest match row/doc/recipe name\n",
        "topScore = sumRows.sort_values(ascending=False)\n",
        "\n",
        "print('TFIDF says this is the recipe: ', recipeTitles[topScore.index[0]])"
      ],
      "metadata": {
        "colab": {
          "base_uri": "https://localhost:8080/"
        },
        "id": "YA6nv9E6PGa5",
        "outputId": "7706ed3e-b92c-4730-86be-847c344e9c82"
      },
      "execution_count": null,
      "outputs": [
        {
          "output_type": "stream",
          "name": "stdout",
          "text": [
            "TFIDF says this is the recipe:  Burr, It's Chili!\n"
          ]
        }
      ]
    },
    {
      "cell_type": "markdown",
      "source": [
        "# Testing"
      ],
      "metadata": {
        "id": "_B465bj5zQDk"
      }
    },
    {
      "cell_type": "markdown",
      "source": [
        "### Loop on search string"
      ],
      "metadata": {
        "id": "i4_CrRZaAsCd"
      }
    },
    {
      "cell_type": "code",
      "source": [
        "# place recipe titles into a list and begin\n",
        "# cleaning process by converting titles to lower-case\n",
        "recipeTitles = []\n",
        "true_positives = 0\n",
        "false_positives = 0\n",
        "false_negatives = 0\n",
        "precision = 0\n",
        "recall = 0\n",
        "\n",
        "# read in database for ground truth\n",
        "conn = sqlite3.connect('/content/drive/MyDrive/sjsu-aiml-project/Code/database/recipes.sqlite')\n",
        "recipeDatabase = pd.read_sql_query(\"SELECT * from recipes\", conn)\n",
        "\n",
        "# build list of recipe titles to serve as reference truth\n",
        "for index, row in recipeDatabase.iterrows():\n",
        "  # build list of recipe titles to serve as reference truth\n",
        "  recipeTitles.append(row.title.lower())\n",
        "\n",
        "# main loop to generate calculations\n",
        "for index, row in recipeDatabase.iterrows():\n",
        "  \n",
        "  # assign and clean search string\n",
        "  search_string = row.title.lower()\n",
        "  query_tokens = word_tokenizer(search_string)\n",
        "  \n",
        "  # Get sum of DataFrame rows (which is a doc/recipe)\n",
        "  # for input tokens that are represented as columns\n",
        "  sumRows = tfidf_df[query_tokens].sum(axis=1)\n",
        "\n",
        "  # sort dataframe to get closest match row/doc/recipe name\n",
        "  topScore = sumRows.sort_values(ascending=False)\n",
        "  #print(topScore.index[0])\n",
        "  # determine if tf-idf search yields a true positive\n",
        "  # get first value (highest tf-idf score) in dictionary\n",
        "  try:\n",
        "    top_search_result_returned = recipeTitles[topScore.index[0]]\n",
        "  except:\n",
        "    false_negatives += 1\n",
        "    break\n",
        "  \n",
        "  # compare top result with query entry\n",
        "  # if query is not top tf-idf result, false positive\n",
        "  # and false negative are incremented\n",
        "  if top_search_result_returned == search_string:\n",
        "    true_positives += 1\n",
        "  else:\n",
        "    false_positives += 1\n",
        "    false_negatives += 1\n",
        "\n",
        "# Precision = TruePositives / (TruePositives + FalsePositives)\n",
        "precision = true_positives / (true_positives + false_positives)\n",
        "\n",
        "# Recall = TruePositives / (TruePositives + FalseNegatives)\n",
        "recall = true_positives / (true_positives + false_negatives)\n",
        "\n",
        "# F1 Score = 2 * (Precision * Recall) / (Precision + Recall)\n",
        "f1_score = 2 * ((precision * recall) / (precision + recall))\n",
        "\n",
        "print('F1 Score: ', f1_score)"
      ],
      "metadata": {
        "colab": {
          "base_uri": "https://localhost:8080/"
        },
        "id": "fibQh6x5aQGk",
        "outputId": "016edba8-f84b-41e6-e660-9628be4279b6"
      },
      "execution_count": null,
      "outputs": [
        {
          "output_type": "stream",
          "name": "stdout",
          "text": [
            "F1 Score:  0.8\n"
          ]
        }
      ]
    }
  ]
}